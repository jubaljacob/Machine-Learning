{
  "nbformat": 4,
  "nbformat_minor": 0,
  "metadata": {
    "colab": {
      "name": "Classification Code Templates.ipynb",
      "provenance": [],
      "collapsed_sections": [],
      "machine_shape": "hm",
      "include_colab_link": true
    },
    "kernelspec": {
      "name": "python3",
      "display_name": "Python 3"
    }
  },
  "cells": [
    {
      "cell_type": "markdown",
      "metadata": {
        "id": "view-in-github",
        "colab_type": "text"
      },
      "source": [
        "<a href=\"https://colab.research.google.com/github/jubaljacob/Classification-Code-Templates/blob/main/Classification_Code_Templates.ipynb\" target=\"_parent\"><img src=\"https://colab.research.google.com/assets/colab-badge.svg\" alt=\"Open In Colab\"/></a>"
      ]
    },
    {
      "cell_type": "markdown",
      "metadata": {
        "id": "0MRC0e0KhQ0S"
      },
      "source": [
        "##Common preparing tools"
      ]
    },
    {
      "cell_type": "markdown",
      "metadata": {
        "id": "LWd1UlMnhT2s"
      },
      "source": [
        "## Importing the libraries"
      ]
    },
    {
      "cell_type": "code",
      "metadata": {
        "id": "YvGPUQaHhXfL"
      },
      "source": [
        "import numpy as np\n",
        "import matplotlib.pyplot as plt\n",
        "import pandas as pd\n",
        "from sklearn.model_selection import train_test_split\n",
        "from sklearn.preprocessing import StandardScaler\n",
        "from sklearn.linear_model import LogisticRegression\n",
        "from sklearn.neighbors import KNeighborsClassifier\n",
        "from sklearn.svm import SVC\n",
        "from sklearn.naive_bayes import GaussianNB\n",
        "from sklearn.tree import DecisionTreeClassifier\n",
        "from sklearn.ensemble import RandomForestClassifier\n",
        "from sklearn.metrics import accuracy_score,confusion_matrix\n"
      ],
      "execution_count": 240,
      "outputs": []
    },
    {
      "cell_type": "markdown",
      "metadata": {
        "id": "K1VMqkGvhc3-"
      },
      "source": [
        "## Importing the dataset"
      ]
    },
    {
      "cell_type": "code",
      "metadata": {
        "id": "M52QDmyzhh9s"
      },
      "source": [
        "dataset = pd.read_csv('Data.csv')\n",
        "X = dataset.iloc[:, :-1].values\n",
        "y = dataset.iloc[:, -1].values"
      ],
      "execution_count": 241,
      "outputs": []
    },
    {
      "cell_type": "code",
      "source": [
        "# print(X[:10])"
      ],
      "metadata": {
        "id": "rzDvcnZsxgG6"
      },
      "execution_count": 242,
      "outputs": []
    },
    {
      "cell_type": "markdown",
      "metadata": {
        "id": "YvxIPVyMhmKp"
      },
      "source": [
        "## Splitting the dataset into the Training set and Test set"
      ]
    },
    {
      "cell_type": "code",
      "metadata": {
        "id": "AVzJWAXIhxoC"
      },
      "source": [
        "X_train, X_test, y_train, y_test = train_test_split(X, y, test_size = 0.25, random_state = 0)"
      ],
      "execution_count": 243,
      "outputs": []
    },
    {
      "cell_type": "markdown",
      "metadata": {
        "id": "kW3c7UYih0hT"
      },
      "source": [
        "## Feature Scaling"
      ]
    },
    {
      "cell_type": "code",
      "metadata": {
        "id": "9fQlDPKCh8sc"
      },
      "source": [
        "sc = StandardScaler()\n",
        "X_train = sc.fit_transform(X_train)\n",
        "X_test = sc.transform(X_test)"
      ],
      "execution_count": 244,
      "outputs": []
    },
    {
      "cell_type": "markdown",
      "metadata": {
        "id": "bb6jCOCQiAmP"
      },
      "source": [
        "## Training the Logistic Regression model on the Training set"
      ]
    },
    {
      "cell_type": "code",
      "metadata": {
        "id": "e0pFVAmciHQs",
        "colab": {
          "base_uri": "https://localhost:8080/"
        },
        "outputId": "3ac2f981-586e-486d-fc0e-ccd72618be06"
      },
      "source": [
        "classifier_log_reg = LogisticRegression()\n",
        "classifier_log_reg.fit(X_train, y_train)\n",
        "y_pred = classifier_log_reg.predict(X_test)\n",
        "acc_score_log_reg = accuracy_score(y_test, y_pred)\n",
        "cm_log_reg = confusion_matrix(y_test, y_pred)\n",
        "print(cm_log_reg)"
      ],
      "execution_count": 245,
      "outputs": [
        {
          "output_type": "stream",
          "name": "stdout",
          "text": [
            "[[103   4]\n",
            " [  5  59]]\n"
          ]
        }
      ]
    },
    {
      "cell_type": "markdown",
      "source": [
        "# KNeighborsClassifier"
      ],
      "metadata": {
        "id": "-HWXLTnLoaMC"
      }
    },
    {
      "cell_type": "code",
      "source": [
        "def best_est(n_neighbors,X_train,X_test,y_train,y_test):\n",
        "    classifier_knn = KNeighborsClassifier(n_neighbors= n_neighbors,  metric = 'minkowski', p = 2)\n",
        "    classifier_knn.fit(X_train,y_train)\n",
        "    yy_pred_rf = classifier_knn.predict(X_test)\n",
        "    return(accuracy_score(y_test, yy_pred_rf))\n",
        "scores = {neighbour: best_est(neighbour, X_train, X_test, y_train, y_test) for neighbour in range(1,100)}\n",
        "\n",
        "best_n_neighbour = max(scores, key=scores.get)\n",
        "\n",
        "print(best_n_neighbour)"
      ],
      "metadata": {
        "colab": {
          "base_uri": "https://localhost:8080/"
        },
        "id": "1Uo3cwv5yeGO",
        "outputId": "3f78418d-f0c8-44b1-e4de-eb48355eb880"
      },
      "execution_count": 246,
      "outputs": [
        {
          "output_type": "stream",
          "name": "stdout",
          "text": [
            "9\n"
          ]
        }
      ]
    },
    {
      "cell_type": "code",
      "source": [
        "classifier_knn = KNeighborsClassifier(n_neighbors = 9, metric = 'minkowski', p = 2)\n",
        "classifier_knn.fit(X_train, y_train)\n",
        "y_pred = classifier_knn.predict(X_test)\n",
        "cm_knn = confusion_matrix(y_test, y_pred)\n",
        "acc_score_knn = accuracy_score(y_test, y_pred)\n",
        "print(cm_knn)"
      ],
      "metadata": {
        "colab": {
          "base_uri": "https://localhost:8080/"
        },
        "id": "aI0d3ICGltPR",
        "outputId": "a0e75a8b-668a-4a17-ce11-65285c1165b8"
      },
      "execution_count": 247,
      "outputs": [
        {
          "output_type": "stream",
          "name": "stdout",
          "text": [
            "[[103   4]\n",
            " [  4  60]]\n"
          ]
        }
      ]
    },
    {
      "cell_type": "markdown",
      "source": [
        "# SVM Linear"
      ],
      "metadata": {
        "id": "09F-ZbaxofGL"
      }
    },
    {
      "cell_type": "code",
      "source": [
        "classifier_SVM_lin = SVC(kernel = 'linear')\n",
        "classifier_SVM_lin.fit(X_train, y_train)\n",
        "y_pred = classifier_SVM_lin.predict(X_test)\n",
        "cm_SVM_lin = confusion_matrix(y_test, y_pred)\n",
        "acc_score_SVM_lin = accuracy_score(y_test, y_pred)\n",
        "print(cm_SVM_lin)"
      ],
      "metadata": {
        "colab": {
          "base_uri": "https://localhost:8080/"
        },
        "id": "9yiUSYDhlvXh",
        "outputId": "1a1b35bd-8a00-41f7-9a6a-f4f17aaeb51a"
      },
      "execution_count": 248,
      "outputs": [
        {
          "output_type": "stream",
          "name": "stdout",
          "text": [
            "[[102   5]\n",
            " [  5  59]]\n"
          ]
        }
      ]
    },
    {
      "cell_type": "markdown",
      "source": [
        "# SVM rbf"
      ],
      "metadata": {
        "id": "jhlVhmcUohHg"
      }
    },
    {
      "cell_type": "code",
      "source": [
        "classifier_SVM_rbf = SVC(kernel = 'rbf')\n",
        "classifier_SVM_rbf.fit(X_train, y_train)\n",
        "y_pred = classifier_SVM_rbf.predict(X_test)\n",
        "cm_SVM_rbf = confusion_matrix(y_test, y_pred)\n",
        "acc_score_SVM_rbf = accuracy_score(y_test, y_pred)\n",
        "print(cm_SVM_rbf)"
      ],
      "metadata": {
        "colab": {
          "base_uri": "https://localhost:8080/"
        },
        "id": "WewDSsfnlyUH",
        "outputId": "a28be1f7-fb09-468e-8a37-8fab45dc655b"
      },
      "execution_count": 249,
      "outputs": [
        {
          "output_type": "stream",
          "name": "stdout",
          "text": [
            "[[102   5]\n",
            " [  3  61]]\n"
          ]
        }
      ]
    },
    {
      "cell_type": "markdown",
      "source": [
        "# Naive Bayes"
      ],
      "metadata": {
        "id": "d9Rxob4Xonuo"
      }
    },
    {
      "cell_type": "code",
      "source": [
        "classifier_Bayes = GaussianNB()\n",
        "classifier_Bayes.fit(X_train, y_train)\n",
        "y_pred = classifier_Bayes.predict(X_test)\n",
        "cm_Bayes = confusion_matrix(y_test, y_pred)\n",
        "acc_score_bayes = accuracy_score(y_test, y_pred)\n",
        "print(cm_Bayes)"
      ],
      "metadata": {
        "colab": {
          "base_uri": "https://localhost:8080/"
        },
        "id": "M0s_0Oaml0Bz",
        "outputId": "c3bfeb9a-f8f2-44c9-8d63-4e3f1e30741c"
      },
      "execution_count": 250,
      "outputs": [
        {
          "output_type": "stream",
          "name": "stdout",
          "text": [
            "[[99  8]\n",
            " [ 2 62]]\n"
          ]
        }
      ]
    },
    {
      "cell_type": "markdown",
      "source": [
        "# Decison Tree"
      ],
      "metadata": {
        "id": "EKcw1eXuos5E"
      }
    },
    {
      "cell_type": "code",
      "source": [
        "classifier_tree = DecisionTreeClassifier(criterion = 'entropy')\n",
        "classifier_tree.fit(X_train, y_train)\n",
        "y_pred = classifier_tree.predict(X_test)\n",
        "cm_tree = confusion_matrix(y_test, y_pred)\n",
        "acc_score_tree = accuracy_score(y_test, y_pred)\n",
        "print(cm_tree)"
      ],
      "metadata": {
        "colab": {
          "base_uri": "https://localhost:8080/"
        },
        "id": "XKfdolmAl4Wr",
        "outputId": "f2296dec-df5d-473f-ef64-e54ab4a4bfc1"
      },
      "execution_count": 251,
      "outputs": [
        {
          "output_type": "stream",
          "name": "stdout",
          "text": [
            "[[103   4]\n",
            " [  3  61]]\n"
          ]
        }
      ]
    },
    {
      "cell_type": "markdown",
      "source": [
        "# Random Forest"
      ],
      "metadata": {
        "id": "n47Epn2gowKU"
      }
    },
    {
      "cell_type": "code",
      "source": [
        "def best_est(n_estimators,X_train,X_test,y_train,y_test):\n",
        "    classifier_rff = RandomForestClassifier(n_estimators= n_estimators, criterion='entropy', random_state=0)\n",
        "    classifier_rff.fit(X_train,y_train)\n",
        "    yy_pred_rf = classifier_rff.predict(X_test)\n",
        "    return(accuracy_score(y_test, yy_pred_rf))\n",
        "scores = {estimator: best_est(estimator, X_train, X_test, y_train, y_test) for estimator in range(1,100)}\n",
        "\n",
        "best_tree_size = max(scores, key=scores.get)\n",
        "\n",
        "print(best_tree_size)"
      ],
      "metadata": {
        "colab": {
          "base_uri": "https://localhost:8080/"
        },
        "id": "3GGR69RLpjdB",
        "outputId": "e6808576-8de2-47fc-9f94-f4ac56147515"
      },
      "execution_count": 252,
      "outputs": [
        {
          "output_type": "stream",
          "name": "stdout",
          "text": [
            "45\n"
          ]
        }
      ]
    },
    {
      "cell_type": "code",
      "source": [
        "classifier_forest = RandomForestClassifier(n_estimators = 45, criterion = 'entropy')\n",
        "classifier_forest.fit(X_train, y_train)\n",
        "y_pred = classifier_forest.predict(X_test)\n",
        "cm_forest = confusion_matrix(y_test, y_pred)\n",
        "acc_score_forest = accuracy_score(y_test, y_pred)\n",
        "print(cm_forest)"
      ],
      "metadata": {
        "colab": {
          "base_uri": "https://localhost:8080/"
        },
        "id": "IBQnBQLQl7zg",
        "outputId": "c6ba3435-01c8-4025-fca5-9dfa4ae8ac20"
      },
      "execution_count": 253,
      "outputs": [
        {
          "output_type": "stream",
          "name": "stdout",
          "text": [
            "[[103   4]\n",
            " [  3  61]]\n"
          ]
        }
      ]
    },
    {
      "cell_type": "code",
      "source": [
        "# print(classifier_forest.predict(sc.transform([[10,7,7,6,4,10,4,1,2]])))"
      ],
      "metadata": {
        "id": "e-PN7YDtw-qc"
      },
      "execution_count": 254,
      "outputs": []
    },
    {
      "cell_type": "markdown",
      "source": [
        "# GridSearchCV"
      ],
      "metadata": {
        "id": "bWXMwY3FurDE"
      }
    },
    {
      "cell_type": "code",
      "source": [
        "# n_estimators = [int(x) for x in np.linspace(start = 10, stop = 200, num = 10)]\n",
        "# criterion = ['gini', 'entropy']\n",
        "# max_features = ['auto', 'sqrt', 'log2']\n",
        "# max_depth = [int(x) for x in np.linspace(10, 100, num = 10)]\n",
        "# min_samples_split = [2, 4, 8, 16]\n",
        "# min_samples_leaf = [2, 4, 8, 16]\n",
        "# bootstrap = [True, False]\n",
        " \n",
        "# param_grid = {'n_estimators': n_estimators,\n",
        "#                 'criterion': criterion,\n",
        "#                 'max_features': max_features,\n",
        "#                 'max_depth': max_depth,\n",
        "#                 'min_samples_split': min_samples_split,\n",
        "#                 'min_samples_leaf': min_samples_leaf,\n",
        "#                 'bootstrap': bootstrap}"
      ],
      "metadata": {
        "id": "51SK6zs_ufX4"
      },
      "execution_count": 255,
      "outputs": []
    },
    {
      "cell_type": "code",
      "source": [
        "# from sklearn.ensemble import RandomForestClassifier\n",
        "# from sklearn.model_selection import GridSearchCV\n",
        " \n",
        "# rf_classifier = RandomForestClassifier()\n",
        " \n",
        "# # `n_jobs` means parallel jobs to run -> -1 means using all processors\n",
        "# grid_search = GridSearchCV(rf_classifier, param_grid, cv = 3, verbose = 1, n_jobs = -1)\n",
        " \n",
        "# grid_fit = grid_search.fit(X_train, y_train)\n",
        "# grid_fit.best_params_"
      ],
      "metadata": {
        "id": "m9zx653Num4z"
      },
      "execution_count": 256,
      "outputs": []
    },
    {
      "cell_type": "code",
      "source": [
        "# grid_classifier = RandomForestClassifier(bootstrap= True,\n",
        "#                                         criterion= 'entropy',\n",
        "#                                         max_depth= 90,\n",
        "#                                         max_features= 'log2',\n",
        "#                                         min_samples_leaf= 16,\n",
        "#                                         min_samples_split= 16,\n",
        "#                                         n_estimators= 10)\n",
        "# grid_classifier.fit(X_train, y_train)"
      ],
      "metadata": {
        "id": "4sW1zwXTuo5D"
      },
      "execution_count": 257,
      "outputs": []
    },
    {
      "cell_type": "markdown",
      "source": [
        "# Results"
      ],
      "metadata": {
        "id": "M9BJXLg8vCIB"
      }
    },
    {
      "cell_type": "code",
      "source": [
        "print(f\"score for Naive Bayes: {100*acc_score_bayes:.3f} % accuracy\")\n",
        "print(f\"score for Decision Tree: {100*acc_score_tree:.3f} % accuracy\")\n",
        "print(f\"score for Logistic Regression: {100*acc_score_log_reg:.3f} % accuracy\")\n",
        "print(f\"score for K_NN: {100*acc_score_knn:.3f} % accuracy\")\n",
        "print(f\"score for Forest: {100*acc_score_forest:.3f} % accuracy\")\n",
        "print(f\"score for SVM linear: {100*acc_score_SVM_lin:.3f} % accuracy\")\n",
        "print(f\"score for SVM kernel: {100*acc_score_SVM_rbf:.3f} % accuracy\")"
      ],
      "metadata": {
        "colab": {
          "base_uri": "https://localhost:8080/"
        },
        "id": "jRbuwl5ol940",
        "outputId": "040bdaed-8169-4365-9e9b-8fc435ee33c7"
      },
      "execution_count": 258,
      "outputs": [
        {
          "output_type": "stream",
          "name": "stdout",
          "text": [
            "score for Naive Bayes: 94.152 % accuracy\n",
            "score for Decision Tree: 95.906 % accuracy\n",
            "score for Logistic Regression: 94.737 % accuracy\n",
            "score for K_NN: 95.322 % accuracy\n",
            "score for Forest: 95.906 % accuracy\n",
            "score for SVM linear: 94.152 % accuracy\n",
            "score for SVM kernel: 95.322 % accuracy\n"
          ]
        }
      ]
    }
  ]
}