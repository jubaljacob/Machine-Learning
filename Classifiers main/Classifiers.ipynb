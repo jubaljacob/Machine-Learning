{
  "nbformat": 4,
  "nbformat_minor": 0,
  "metadata": {
    "colab": {
      "name": "Classifiers.ipynb",
      "provenance": [],
      "authorship_tag": "ABX9TyPtw2RXSw3f92DjkStndJLm",
      "include_colab_link": true
    },
    "kernelspec": {
      "name": "python3",
      "display_name": "Python 3"
    },
    "language_info": {
      "name": "python"
    }
  },
  "cells": [
    {
      "cell_type": "markdown",
      "metadata": {
        "id": "view-in-github",
        "colab_type": "text"
      },
      "source": [
        "<a href=\"https://colab.research.google.com/github/jubaljacob/Classifiers/blob/main/Classifiers.ipynb\" target=\"_parent\"><img src=\"https://colab.research.google.com/assets/colab-badge.svg\" alt=\"Open In Colab\"/></a>"
      ]
    },
    {
      "cell_type": "code",
      "execution_count": 93,
      "metadata": {
        "id": "Jz4OZhppm1R_"
      },
      "outputs": [],
      "source": [
        "import pandas as pd\n",
        "from sklearn.model_selection import train_test_split\n",
        "from sklearn.preprocessing import StandardScaler\n",
        "from sklearn.linear_model import LogisticRegression\n",
        "from sklearn.neighbors import KNeighborsClassifier\n",
        "from sklearn.svm import LinearSVC, SVC\n",
        "from sklearn.naive_bayes import GaussianNB\n",
        "from sklearn.tree import DecisionTreeClassifier\n",
        "from sklearn.ensemble import RandomForestClassifier\n",
        "from sklearn.metrics import accuracy_score"
      ]
    },
    {
      "cell_type": "code",
      "source": [
        "data_set = pd.read_csv('Data.csv')\n",
        " \n",
        "X = data_set.iloc[:, 1:-1].values\n",
        "y = data_set.iloc[:, -1].values"
      ],
      "metadata": {
        "id": "XVEzNtKtm2il"
      },
      "execution_count": 94,
      "outputs": []
    },
    {
      "cell_type": "code",
      "source": [
        "X_train, X_test, y_train, y_test = train_test_split(X, y, test_size=0.25)"
      ],
      "metadata": {
        "id": "UgpGYyGym5yd"
      },
      "execution_count": 95,
      "outputs": []
    },
    {
      "cell_type": "code",
      "source": [
        "scaler = StandardScaler()\n",
        "X_train_scaled = scaler.fit_transform(X_train)"
      ],
      "metadata": {
        "id": "zpONDjrZm7gC"
      },
      "execution_count": 96,
      "outputs": []
    },
    {
      "cell_type": "code",
      "source": [
        "classifiers = {\n",
        "    'logistic': LogisticRegression(),\n",
        "    'KN-neighbors': KNeighborsClassifier(),\n",
        "    'SVM': SVC(kernel='linear'),\n",
        "    'linSVC': LinearSVC(),\n",
        "    'rbfSVC': SVC(),\n",
        "    'naiveBayes': GaussianNB(),\n",
        "    'Tree': DecisionTreeClassifier(criterion='entropy'),\n",
        "    'Forest': RandomForestClassifier(criterion='entropy')\n",
        "}"
      ],
      "metadata": {
        "id": "ITmLVNJBm8rN"
      },
      "execution_count": 97,
      "outputs": []
    },
    {
      "cell_type": "code",
      "source": [
        "for values in classifiers.values():\n",
        "    values.fit(X_train_scaled, y_train)"
      ],
      "metadata": {
        "id": "uQ6wiBSBnKb3"
      },
      "execution_count": 98,
      "outputs": []
    },
    {
      "cell_type": "code",
      "source": [
        "results = {key: 100*accuracy_score(y_test, value.predict(scaler.transform(X_test))) for key, value in classifiers.items()}"
      ],
      "metadata": {
        "id": "sCqYRVq1nMjY"
      },
      "execution_count": 99,
      "outputs": []
    },
    {
      "cell_type": "code",
      "source": [
        "print(*results.items(), sep='\\n')\n",
        "print(max(results, key=results.get))"
      ],
      "metadata": {
        "colab": {
          "base_uri": "https://localhost:8080/"
        },
        "id": "7MVOuO9KnWCV",
        "outputId": "a5714239-5e6b-40b6-cc7d-decdef85ba65"
      },
      "execution_count": 100,
      "outputs": [
        {
          "output_type": "stream",
          "name": "stdout",
          "text": [
            "('logistic', 98.24561403508771)\n",
            "('KN-neighbors', 98.24561403508771)\n",
            "('SVM', 97.6608187134503)\n",
            "('linSVC', 97.6608187134503)\n",
            "('rbfSVC', 97.6608187134503)\n",
            "('naiveBayes', 97.6608187134503)\n",
            "('Tree', 97.07602339181285)\n",
            "('Forest', 98.24561403508771)\n",
            "logistic\n"
          ]
        }
      ]
    }
  ]
}